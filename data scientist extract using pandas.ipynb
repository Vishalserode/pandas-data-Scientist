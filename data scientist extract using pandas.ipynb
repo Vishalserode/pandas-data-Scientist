{
  "nbformat": 4,
  "nbformat_minor": 0,
  "metadata": {
    "colab": {
      "provenance": [],
      "toc_visible": true
    },
    "kernelspec": {
      "name": "python3",
      "display_name": "Python 3"
    },
    "language_info": {
      "name": "python"
    }
  },
  "cells": [
    {
      "cell_type": "markdown",
      "source": [
        "IMPORTING THE CSV FILE FROM GOOGLE DRIVE"
      ],
      "metadata": {
        "id": "Z6phodMLxOL_"
      }
    },
    {
      "cell_type": "code",
      "source": [
        "from google.colab import drive\n",
        "drive.mount('/content/drive')"
      ],
      "metadata": {
        "id": "QNMKLFbHxb8K"
      },
      "execution_count": null,
      "outputs": []
    },
    {
      "cell_type": "markdown",
      "source": [
        "SETTING THE PATH TO ACCESS THE CSV FILE"
      ],
      "metadata": {
        "id": "fzVGx9R6xfa-"
      }
    },
    {
      "cell_type": "code",
      "source": [
        "import pandas\n",
        "data = pandas.read_csv(\"/content/drive/MyDrive/Colab Notebooks/ds/ds_salaries.csv\")"
      ],
      "metadata": {
        "id": "HOFujh8nxk-I"
      },
      "execution_count": 30,
      "outputs": []
    },
    {
      "cell_type": "markdown",
      "source": [
        "EXTRACTING NUMBER OF DATA SCIENTIST IN CALIFFORNIA, AND IN OTHER COUNTRIES"
      ],
      "metadata": {
        "id": "-112OMNE0kxS"
      }
    },
    {
      "cell_type": "code",
      "source": [
        "california = data[(data[\"job_title\"]==\"Data Scientist\") & (data[\"company_location\"]==\"CA\")].count()\n",
        "print(\"california:\"+ str(california[\"job_title\"]))\n",
        "\n",
        "US = data[(data[\"job_title\"]==\"Data Scientist\") & (data[\"company_location\"]==\"US\")].count()\n",
        "print(\"United States:\"+ str(US[\"job_title\"]))\n",
        "\n",
        "Spain = data[(data[\"job_title\"]==\"Data Scientist\") & (data[\"company_location\"]==\"ES\")].count()\n",
        "print(\"Spain:\"+ str(Spain[\"job_title\"]))\n",
        "\n",
        "India = data[(data[\"job_title\"]==\"Data Scientist\") & (data[\"company_location\"]==\"IN\")].count()\n",
        "print(\"India:\"+ str(India[\"job_title\"]))\n",
        "\n",
        "Nigeria = data[(data[\"job_title\"]==\"Data Scientist\") & (data[\"company_location\"]==\"NG\")].count()\n",
        "print(\"Nigeria:\"+ str(Nigeria[\"job_title\"]))\n"
      ],
      "metadata": {
        "colab": {
          "base_uri": "https://localhost:8080/"
        },
        "id": "NZMqLUoI1vmv",
        "outputId": "c75014c2-05e8-4aa1-b6b6-13c24cf372ac"
      },
      "execution_count": 76,
      "outputs": [
        {
          "output_type": "stream",
          "name": "stdout",
          "text": [
            "california:21\n",
            "United States:674\n",
            "Spain:28\n",
            "India:15\n",
            "Nigeria:1\n"
          ]
        }
      ]
    },
    {
      "cell_type": "markdown",
      "source": [
        "MAXIMUM SALARY OF COUNTRIES FOR ALL ROLE"
      ],
      "metadata": {
        "id": "O3BtQESL_Kw4"
      }
    },
    {
      "cell_type": "code",
      "source": [
        "CA_max = data[data[\"company_location\"]==\"CA\"]\n",
        "print(\"california's max salary:\"+str(CA_max[\"salary\"].max())+ \" USD\")\n",
        "\n",
        "US_max = data[data[\"company_location\"]==\"US\"]\n",
        "print(\"Unites states max salary:\"+str(US_max[\"salary\"].max())+\" USD\")\n",
        "\n",
        "IN_max = data[data[\"company_location\"]==\"IN\"]\n",
        "print(\"india's max salary:\"+str(IN_max[\"salary\"].max())+\" INR\")"
      ],
      "metadata": {
        "colab": {
          "base_uri": "https://localhost:8080/"
        },
        "id": "x86si-ul_aQn",
        "outputId": "1ba276db-79d0-452e-fb06-b4798cf078f0"
      },
      "execution_count": 93,
      "outputs": [
        {
          "output_type": "stream",
          "name": "stdout",
          "text": [
            "california's max salary:275000 USD\n",
            "Unites states max salary:11000000 USD\n",
            "india's max salary:7500000 INR\n"
          ]
        }
      ]
    },
    {
      "cell_type": "markdown",
      "source": [
        "MINIMUM SALARY OF COUNTRIES FOR ALL ROLE"
      ],
      "metadata": {
        "id": "8gZV7RZRDv1q"
      }
    },
    {
      "cell_type": "code",
      "source": [
        "CA_min = data[data[\"company_location\"]==\"CA\"]\n",
        "print(\"california's min salary:\"+str(CA_min[\"salary\"].min())+ \" USD\")\n",
        "\n",
        "US_min = data[data[\"company_location\"]==\"US\"]\n",
        "print(\"Unites states min salary:\"+str(US_min[\"salary\"].min())+\" USD\")\n",
        "\n",
        "IN_min = data[data[\"company_location\"]==\"IN\"]\n",
        "print(\"india's min salary:\"+str(IN_min[\"salary\"].min())+\" INR\")"
      ],
      "metadata": {
        "colab": {
          "base_uri": "https://localhost:8080/"
        },
        "id": "nhtkSz5jD5Jp",
        "outputId": "4dfa4462-18c6-47ed-e5c3-ffc7fe1a4e81"
      },
      "execution_count": 95,
      "outputs": [
        {
          "output_type": "stream",
          "name": "stdout",
          "text": [
            "california's min salary:15000 USD\n",
            "Unites states min salary:12000 USD\n",
            "india's min salary:20000 INR\n"
          ]
        }
      ]
    },
    {
      "cell_type": "markdown",
      "source": [
        "COUNT OF EACH LEVEL FOR A COUNTRIES"
      ],
      "metadata": {
        "id": "iT_G0GCTELf-"
      }
    },
    {
      "cell_type": "code",
      "source": [
        "ca_entry_level = data[(data[\"experience_level\"]==\"EN\") & (data[\"company_location\"]==\"CA\")]\n",
        "print(\"california's entry level cantitates count: \"+str(ca_entry_level['experience_level'].count()))\n",
        "\n",
        "ca_middle_level = data[(data[\"experience_level\"]==\"MI\") & (data[\"company_location\"]==\"CA\")]\n",
        "print(\"california's middle level cantitates count: \"+str(ca_middle_level['experience_level'].count()))\n",
        "\n",
        "ca_senior_level = data[(data[\"experience_level\"]==\"SE\") & (data[\"company_location\"]==\"CA\")]\n",
        "print(\"california's senior level cantitates count: \"+str(ca_senior_level['experience_level'].count()))\n",
        "\n",
        "ca_Executive_level = data[(data[\"experience_level\"]==\"EX\") & (data[\"company_location\"]==\"CA\")]\n",
        "print(\"california's Executive level cantitates count: \"+str(ca_Executive_level['experience_level'].count()))\n"
      ],
      "metadata": {
        "colab": {
          "base_uri": "https://localhost:8080/"
        },
        "id": "cTxgyruSEkcG",
        "outputId": "c6feccc6-e200-4db1-8c8e-6594b12fefe8"
      },
      "execution_count": 106,
      "outputs": [
        {
          "output_type": "stream",
          "name": "stdout",
          "text": [
            "california's entry level cantitates count: 7\n",
            "california's middle level cantitates count: 15\n",
            "california's senior level cantitates count: 61\n",
            "california's Executive level cantitates count: 4\n"
          ]
        }
      ]
    },
    {
      "cell_type": "markdown",
      "source": [
        "MAXIMUM SALARY OF EACH LEVEL CANTITADES"
      ],
      "metadata": {
        "id": "0i5ypwtxHsBm"
      }
    },
    {
      "cell_type": "code",
      "source": [
        "entry_max=data[(data[\"experience_level\"]==\"EN\") & (data[\"job_title\"]==\"Data Engineer\") & (data[\"company_location\"]==\"US\") & (data[\"company_size\"]==\"M\")]\n",
        "print(\"Maximun salary of data engineer(Entry level) in United States Mid company:\"+str(entry_max[\"salary\"].max()))\n",
        "\n",
        "middle_max=data[(data[\"experience_level\"]==\"MI\") & (data[\"job_title\"]==\"Data Engineer\") & (data[\"company_location\"]==\"US\") & (data[\"company_size\"]==\"M\")]\n",
        "print(\"Maximun salary of data engineer(Middle level) in United States Mid company:\"+str(middle_max[\"salary\"].max()))\n",
        "\n",
        "senior_max=data[(data[\"experience_level\"]==\"SE\") & (data[\"job_title\"]==\"Data Engineer\") & (data[\"company_location\"]==\"US\") & (data[\"company_size\"]==\"M\")]\n",
        "print(\"Maximun salary of data engineer(Senior level) in United States Mid company:\"+str(senior_max[\"salary\"].max()))\n",
        "\n",
        "executive_max=data[(data[\"experience_level\"]==\"EX\") & (data[\"job_title\"]==\"Data Engineer\") & (data[\"company_location\"]==\"US\") & (data[\"company_size\"]==\"M\")]\n",
        "print(\"Maximun salary of data engineer(Executive level) in United States Mid company:\"+str(executive_max[\"salary\"].max()))"
      ],
      "metadata": {
        "colab": {
          "base_uri": "https://localhost:8080/"
        },
        "id": "uBaIZEIJH9yb",
        "outputId": "bacb7678-f7d6-43be-afdc-e2e5332fe3eb"
      },
      "execution_count": 126,
      "outputs": [
        {
          "output_type": "stream",
          "name": "stdout",
          "text": [
            "Maximun salary of data engineer(Entry level) in United States Mid company:160000\n",
            "Maximun salary of data engineer(Middle level) in United States Mid company:260000\n",
            "Maximun salary of data engineer(Senior level) in United States Mid company:315000\n",
            "Maximun salary of data engineer(Executive level) in United States Mid company:324000\n"
          ]
        }
      ]
    },
    {
      "cell_type": "markdown",
      "source": [
        "MACHINE LEARNING ENGINEERING COUNT IN EACH YEAR"
      ],
      "metadata": {
        "id": "JP2zqVPJKtiD"
      }
    },
    {
      "cell_type": "code",
      "source": [
        "year_2020 = data[(data[\"work_year\"]==2020) & (data[\"job_title\"]==\"Machine Learning Engineer\")]\n",
        "print(\"Machine Learning Engineer count in 2020:\"+str(year_2020[\"work_year\"].count()))\n",
        "\n",
        "year_2021 = data[(data[\"work_year\"]==2021) & (data[\"job_title\"]==\"Machine Learning Engineer\")]\n",
        "print(\"Machine Learning Engineer count in 2021:\"+str(year_2021[\"work_year\"].count()))\n",
        "\n",
        "year_2022 = data[(data[\"work_year\"]==2022) & (data[\"job_title\"]==\"Machine Learning Engineer\")]\n",
        "print(\"Machine Learning Engineer count in 2022:\"+str(year_2022[\"work_year\"].count()))\n",
        "\n",
        "year_2023 = data[(data[\"work_year\"]==2023) & (data[\"job_title\"]==\"Machine Learning Engineer\")]\n",
        "print(\"Machine Learning Engineer count in 2023:\"+str(year_2023[\"work_year\"].count()))"
      ],
      "metadata": {
        "colab": {
          "base_uri": "https://localhost:8080/"
        },
        "id": "2j6pHYFQK5up",
        "outputId": "1cd3b0f7-d2e8-4eae-ff52-3e9070374c18"
      },
      "execution_count": 137,
      "outputs": [
        {
          "output_type": "stream",
          "name": "stdout",
          "text": [
            "Machine Learning Engineer count in 2020:4\n",
            "Machine Learning Engineer count in 2021:18\n",
            "Machine Learning Engineer count in 2022:109\n",
            "Machine Learning Engineer count in 2023:158\n"
          ]
        }
      ]
    },
    {
      "cell_type": "markdown",
      "source": [
        "EACH YEAR'S TOTAL SALARY OF EVERY FIELD"
      ],
      "metadata": {
        "id": "e4r7g7NLNTl5"
      }
    },
    {
      "cell_type": "code",
      "source": [
        "YEAR_2020_total  = data[data[\"work_year\"]==2020]\n",
        "YEAR_2020_total = YEAR_2020_total[\"salary\"]\n",
        "print(\"Every field's total salary in 2020: \"+str(YEAR_2020_total.sum()))\n",
        "\n",
        "YEAR_2021_total  = data[data[\"work_year\"]==2021]\n",
        "YEAR_2021_total = YEAR_2021_total[\"salary\"]\n",
        "print(\"Every field's total salary in 2021: \"+str(YEAR_2021_total.sum()))\n",
        "\n",
        "YEAR_2022_total  = data[data[\"work_year\"]==2022]\n",
        "YEAR_2022_total = YEAR_2022_total[\"salary\"]\n",
        "print(\"Every field's total salary in 2022: \"+str(YEAR_2022_total.sum()))\n",
        "\n",
        "YEAR_2023_total  = data[data[\"work_year\"]==2023]\n",
        "YEAR_2023_total = YEAR_2023_total[\"salary\"]\n",
        "print(\"Every field's total salary in 2023: \"+str(YEAR_2023_total.sum()))"
      ],
      "metadata": {
        "colab": {
          "base_uri": "https://localhost:8080/"
        },
        "id": "GemxCiprNZ9e",
        "outputId": "13acaf99-5d5f-4f3d-d416-32765d0ad720"
      },
      "execution_count": 144,
      "outputs": [
        {
          "output_type": "stream",
          "name": "stdout",
          "text": [
            "Every field's total salary in 2020: 29362809\n",
            "Every field's total salary in 2021: 125157548\n",
            "Every field's total salary in 2022: 275260572\n",
            "Every field's total salary in 2023: 286280943\n"
          ]
        }
      ]
    }
  ]
}